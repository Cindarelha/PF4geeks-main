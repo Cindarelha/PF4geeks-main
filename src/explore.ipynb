{
 "cells": [
  {
   "cell_type": "markdown",
   "metadata": {},
   "source": [
    "# Explore here"
   ]
  },
  {
   "cell_type": "markdown",
   "metadata": {},
   "source": [
    "MODULO PARA DETECTAR LA CODIFICACION DEL ARCHIVO CSV"
   ]
  },
  {
   "cell_type": "code",
   "execution_count": 8,
   "metadata": {},
   "outputs": [
    {
     "name": "stdout",
     "output_type": "stream",
     "text": [
      "utf-8\n"
     ]
    }
   ],
   "source": [
    "import chardet\n",
    "\n",
    "# Detectar la codificación\n",
    "with open('../data/raw/products_utf8.csv', 'rb') as file:\n",
    "    result = chardet.detect(file.read())\n",
    "    print(result['encoding'])"
   ]
  },
  {
   "cell_type": "markdown",
   "metadata": {},
   "source": [
    "MODULO PARA PASAR EL CSV A UTF-8"
   ]
  },
  {
   "cell_type": "code",
   "execution_count": 2,
   "metadata": {},
   "outputs": [
    {
     "name": "stderr",
     "output_type": "stream",
     "text": [
      "C:\\Users\\pablo\\AppData\\Local\\Temp\\ipykernel_308\\2378698660.py:6: DtypeWarning: Columns (16) have mixed types. Specify dtype option on import or set low_memory=False.\n",
      "  df = pd.read_csv(file_path, encoding='MacRoman')\n"
     ]
    },
    {
     "ename": "PermissionError",
     "evalue": "[Errno 13] Permission denied: '../data/raw/products_utf8.csv'",
     "output_type": "error",
     "traceback": [
      "\u001b[1;31m---------------------------------------------------------------------------\u001b[0m",
      "\u001b[1;31mPermissionError\u001b[0m                           Traceback (most recent call last)",
      "Cell \u001b[1;32mIn[2], line 12\u001b[0m\n\u001b[0;32m      9\u001b[0m output_file_path \u001b[38;5;241m=\u001b[39m \u001b[38;5;124m'\u001b[39m\u001b[38;5;124m../data/raw/products_utf8.csv\u001b[39m\u001b[38;5;124m'\u001b[39m\n\u001b[0;32m     11\u001b[0m \u001b[38;5;66;03m# Guardar el archivo convertido\u001b[39;00m\n\u001b[1;32m---> 12\u001b[0m \u001b[43mdf\u001b[49m\u001b[38;5;241;43m.\u001b[39;49m\u001b[43mto_csv\u001b[49m\u001b[43m(\u001b[49m\u001b[43moutput_file_path\u001b[49m\u001b[43m,\u001b[49m\u001b[43m \u001b[49m\u001b[43mencoding\u001b[49m\u001b[38;5;241;43m=\u001b[39;49m\u001b[38;5;124;43m'\u001b[39;49m\u001b[38;5;124;43mutf-8\u001b[39;49m\u001b[38;5;124;43m'\u001b[39;49m\u001b[43m,\u001b[49m\u001b[43m \u001b[49m\u001b[43mindex\u001b[49m\u001b[38;5;241;43m=\u001b[39;49m\u001b[38;5;28;43;01mFalse\u001b[39;49;00m\u001b[43m)\u001b[49m\n",
      "File \u001b[1;32mc:\\Users\\pablo\\AppData\\Local\\Programs\\Python\\Python312\\Lib\\site-packages\\pandas\\util\\_decorators.py:333\u001b[0m, in \u001b[0;36mdeprecate_nonkeyword_arguments.<locals>.decorate.<locals>.wrapper\u001b[1;34m(*args, **kwargs)\u001b[0m\n\u001b[0;32m    327\u001b[0m \u001b[38;5;28;01mif\u001b[39;00m \u001b[38;5;28mlen\u001b[39m(args) \u001b[38;5;241m>\u001b[39m num_allow_args:\n\u001b[0;32m    328\u001b[0m     warnings\u001b[38;5;241m.\u001b[39mwarn(\n\u001b[0;32m    329\u001b[0m         msg\u001b[38;5;241m.\u001b[39mformat(arguments\u001b[38;5;241m=\u001b[39m_format_argument_list(allow_args)),\n\u001b[0;32m    330\u001b[0m         \u001b[38;5;167;01mFutureWarning\u001b[39;00m,\n\u001b[0;32m    331\u001b[0m         stacklevel\u001b[38;5;241m=\u001b[39mfind_stack_level(),\n\u001b[0;32m    332\u001b[0m     )\n\u001b[1;32m--> 333\u001b[0m \u001b[38;5;28;01mreturn\u001b[39;00m \u001b[43mfunc\u001b[49m\u001b[43m(\u001b[49m\u001b[38;5;241;43m*\u001b[39;49m\u001b[43margs\u001b[49m\u001b[43m,\u001b[49m\u001b[43m \u001b[49m\u001b[38;5;241;43m*\u001b[39;49m\u001b[38;5;241;43m*\u001b[39;49m\u001b[43mkwargs\u001b[49m\u001b[43m)\u001b[49m\n",
      "File \u001b[1;32mc:\\Users\\pablo\\AppData\\Local\\Programs\\Python\\Python312\\Lib\\site-packages\\pandas\\core\\generic.py:3967\u001b[0m, in \u001b[0;36mNDFrame.to_csv\u001b[1;34m(self, path_or_buf, sep, na_rep, float_format, columns, header, index, index_label, mode, encoding, compression, quoting, quotechar, lineterminator, chunksize, date_format, doublequote, escapechar, decimal, errors, storage_options)\u001b[0m\n\u001b[0;32m   3956\u001b[0m df \u001b[38;5;241m=\u001b[39m \u001b[38;5;28mself\u001b[39m \u001b[38;5;28;01mif\u001b[39;00m \u001b[38;5;28misinstance\u001b[39m(\u001b[38;5;28mself\u001b[39m, ABCDataFrame) \u001b[38;5;28;01melse\u001b[39;00m \u001b[38;5;28mself\u001b[39m\u001b[38;5;241m.\u001b[39mto_frame()\n\u001b[0;32m   3958\u001b[0m formatter \u001b[38;5;241m=\u001b[39m DataFrameFormatter(\n\u001b[0;32m   3959\u001b[0m     frame\u001b[38;5;241m=\u001b[39mdf,\n\u001b[0;32m   3960\u001b[0m     header\u001b[38;5;241m=\u001b[39mheader,\n\u001b[1;32m   (...)\u001b[0m\n\u001b[0;32m   3964\u001b[0m     decimal\u001b[38;5;241m=\u001b[39mdecimal,\n\u001b[0;32m   3965\u001b[0m )\n\u001b[1;32m-> 3967\u001b[0m \u001b[38;5;28;01mreturn\u001b[39;00m \u001b[43mDataFrameRenderer\u001b[49m\u001b[43m(\u001b[49m\u001b[43mformatter\u001b[49m\u001b[43m)\u001b[49m\u001b[38;5;241;43m.\u001b[39;49m\u001b[43mto_csv\u001b[49m\u001b[43m(\u001b[49m\n\u001b[0;32m   3968\u001b[0m \u001b[43m    \u001b[49m\u001b[43mpath_or_buf\u001b[49m\u001b[43m,\u001b[49m\n\u001b[0;32m   3969\u001b[0m \u001b[43m    \u001b[49m\u001b[43mlineterminator\u001b[49m\u001b[38;5;241;43m=\u001b[39;49m\u001b[43mlineterminator\u001b[49m\u001b[43m,\u001b[49m\n\u001b[0;32m   3970\u001b[0m \u001b[43m    \u001b[49m\u001b[43msep\u001b[49m\u001b[38;5;241;43m=\u001b[39;49m\u001b[43msep\u001b[49m\u001b[43m,\u001b[49m\n\u001b[0;32m   3971\u001b[0m \u001b[43m    \u001b[49m\u001b[43mencoding\u001b[49m\u001b[38;5;241;43m=\u001b[39;49m\u001b[43mencoding\u001b[49m\u001b[43m,\u001b[49m\n\u001b[0;32m   3972\u001b[0m \u001b[43m    \u001b[49m\u001b[43merrors\u001b[49m\u001b[38;5;241;43m=\u001b[39;49m\u001b[43merrors\u001b[49m\u001b[43m,\u001b[49m\n\u001b[0;32m   3973\u001b[0m \u001b[43m    \u001b[49m\u001b[43mcompression\u001b[49m\u001b[38;5;241;43m=\u001b[39;49m\u001b[43mcompression\u001b[49m\u001b[43m,\u001b[49m\n\u001b[0;32m   3974\u001b[0m \u001b[43m    \u001b[49m\u001b[43mquoting\u001b[49m\u001b[38;5;241;43m=\u001b[39;49m\u001b[43mquoting\u001b[49m\u001b[43m,\u001b[49m\n\u001b[0;32m   3975\u001b[0m \u001b[43m    \u001b[49m\u001b[43mcolumns\u001b[49m\u001b[38;5;241;43m=\u001b[39;49m\u001b[43mcolumns\u001b[49m\u001b[43m,\u001b[49m\n\u001b[0;32m   3976\u001b[0m \u001b[43m    \u001b[49m\u001b[43mindex_label\u001b[49m\u001b[38;5;241;43m=\u001b[39;49m\u001b[43mindex_label\u001b[49m\u001b[43m,\u001b[49m\n\u001b[0;32m   3977\u001b[0m \u001b[43m    \u001b[49m\u001b[43mmode\u001b[49m\u001b[38;5;241;43m=\u001b[39;49m\u001b[43mmode\u001b[49m\u001b[43m,\u001b[49m\n\u001b[0;32m   3978\u001b[0m \u001b[43m    \u001b[49m\u001b[43mchunksize\u001b[49m\u001b[38;5;241;43m=\u001b[39;49m\u001b[43mchunksize\u001b[49m\u001b[43m,\u001b[49m\n\u001b[0;32m   3979\u001b[0m \u001b[43m    \u001b[49m\u001b[43mquotechar\u001b[49m\u001b[38;5;241;43m=\u001b[39;49m\u001b[43mquotechar\u001b[49m\u001b[43m,\u001b[49m\n\u001b[0;32m   3980\u001b[0m \u001b[43m    \u001b[49m\u001b[43mdate_format\u001b[49m\u001b[38;5;241;43m=\u001b[39;49m\u001b[43mdate_format\u001b[49m\u001b[43m,\u001b[49m\n\u001b[0;32m   3981\u001b[0m \u001b[43m    \u001b[49m\u001b[43mdoublequote\u001b[49m\u001b[38;5;241;43m=\u001b[39;49m\u001b[43mdoublequote\u001b[49m\u001b[43m,\u001b[49m\n\u001b[0;32m   3982\u001b[0m \u001b[43m    \u001b[49m\u001b[43mescapechar\u001b[49m\u001b[38;5;241;43m=\u001b[39;49m\u001b[43mescapechar\u001b[49m\u001b[43m,\u001b[49m\n\u001b[0;32m   3983\u001b[0m \u001b[43m    \u001b[49m\u001b[43mstorage_options\u001b[49m\u001b[38;5;241;43m=\u001b[39;49m\u001b[43mstorage_options\u001b[49m\u001b[43m,\u001b[49m\n\u001b[0;32m   3984\u001b[0m \u001b[43m\u001b[49m\u001b[43m)\u001b[49m\n",
      "File \u001b[1;32mc:\\Users\\pablo\\AppData\\Local\\Programs\\Python\\Python312\\Lib\\site-packages\\pandas\\io\\formats\\format.py:1014\u001b[0m, in \u001b[0;36mDataFrameRenderer.to_csv\u001b[1;34m(self, path_or_buf, encoding, sep, columns, index_label, mode, compression, quoting, quotechar, lineterminator, chunksize, date_format, doublequote, escapechar, errors, storage_options)\u001b[0m\n\u001b[0;32m    993\u001b[0m     created_buffer \u001b[38;5;241m=\u001b[39m \u001b[38;5;28;01mFalse\u001b[39;00m\n\u001b[0;32m    995\u001b[0m csv_formatter \u001b[38;5;241m=\u001b[39m CSVFormatter(\n\u001b[0;32m    996\u001b[0m     path_or_buf\u001b[38;5;241m=\u001b[39mpath_or_buf,\n\u001b[0;32m    997\u001b[0m     lineterminator\u001b[38;5;241m=\u001b[39mlineterminator,\n\u001b[1;32m   (...)\u001b[0m\n\u001b[0;32m   1012\u001b[0m     formatter\u001b[38;5;241m=\u001b[39m\u001b[38;5;28mself\u001b[39m\u001b[38;5;241m.\u001b[39mfmt,\n\u001b[0;32m   1013\u001b[0m )\n\u001b[1;32m-> 1014\u001b[0m \u001b[43mcsv_formatter\u001b[49m\u001b[38;5;241;43m.\u001b[39;49m\u001b[43msave\u001b[49m\u001b[43m(\u001b[49m\u001b[43m)\u001b[49m\n\u001b[0;32m   1016\u001b[0m \u001b[38;5;28;01mif\u001b[39;00m created_buffer:\n\u001b[0;32m   1017\u001b[0m     \u001b[38;5;28;01massert\u001b[39;00m \u001b[38;5;28misinstance\u001b[39m(path_or_buf, StringIO)\n",
      "File \u001b[1;32mc:\\Users\\pablo\\AppData\\Local\\Programs\\Python\\Python312\\Lib\\site-packages\\pandas\\io\\formats\\csvs.py:251\u001b[0m, in \u001b[0;36mCSVFormatter.save\u001b[1;34m(self)\u001b[0m\n\u001b[0;32m    247\u001b[0m \u001b[38;5;250m\u001b[39m\u001b[38;5;124;03m\"\"\"\u001b[39;00m\n\u001b[0;32m    248\u001b[0m \u001b[38;5;124;03mCreate the writer & save.\u001b[39;00m\n\u001b[0;32m    249\u001b[0m \u001b[38;5;124;03m\"\"\"\u001b[39;00m\n\u001b[0;32m    250\u001b[0m \u001b[38;5;66;03m# apply compression and byte/text conversion\u001b[39;00m\n\u001b[1;32m--> 251\u001b[0m \u001b[38;5;28;01mwith\u001b[39;00m \u001b[43mget_handle\u001b[49m\u001b[43m(\u001b[49m\n\u001b[0;32m    252\u001b[0m \u001b[43m    \u001b[49m\u001b[38;5;28;43mself\u001b[39;49m\u001b[38;5;241;43m.\u001b[39;49m\u001b[43mfilepath_or_buffer\u001b[49m\u001b[43m,\u001b[49m\n\u001b[0;32m    253\u001b[0m \u001b[43m    \u001b[49m\u001b[38;5;28;43mself\u001b[39;49m\u001b[38;5;241;43m.\u001b[39;49m\u001b[43mmode\u001b[49m\u001b[43m,\u001b[49m\n\u001b[0;32m    254\u001b[0m \u001b[43m    \u001b[49m\u001b[43mencoding\u001b[49m\u001b[38;5;241;43m=\u001b[39;49m\u001b[38;5;28;43mself\u001b[39;49m\u001b[38;5;241;43m.\u001b[39;49m\u001b[43mencoding\u001b[49m\u001b[43m,\u001b[49m\n\u001b[0;32m    255\u001b[0m \u001b[43m    \u001b[49m\u001b[43merrors\u001b[49m\u001b[38;5;241;43m=\u001b[39;49m\u001b[38;5;28;43mself\u001b[39;49m\u001b[38;5;241;43m.\u001b[39;49m\u001b[43merrors\u001b[49m\u001b[43m,\u001b[49m\n\u001b[0;32m    256\u001b[0m \u001b[43m    \u001b[49m\u001b[43mcompression\u001b[49m\u001b[38;5;241;43m=\u001b[39;49m\u001b[38;5;28;43mself\u001b[39;49m\u001b[38;5;241;43m.\u001b[39;49m\u001b[43mcompression\u001b[49m\u001b[43m,\u001b[49m\n\u001b[0;32m    257\u001b[0m \u001b[43m    \u001b[49m\u001b[43mstorage_options\u001b[49m\u001b[38;5;241;43m=\u001b[39;49m\u001b[38;5;28;43mself\u001b[39;49m\u001b[38;5;241;43m.\u001b[39;49m\u001b[43mstorage_options\u001b[49m\u001b[43m,\u001b[49m\n\u001b[0;32m    258\u001b[0m \u001b[43m\u001b[49m\u001b[43m)\u001b[49m \u001b[38;5;28;01mas\u001b[39;00m handles:\n\u001b[0;32m    259\u001b[0m     \u001b[38;5;66;03m# Note: self.encoding is irrelevant here\u001b[39;00m\n\u001b[0;32m    260\u001b[0m     \u001b[38;5;28mself\u001b[39m\u001b[38;5;241m.\u001b[39mwriter \u001b[38;5;241m=\u001b[39m csvlib\u001b[38;5;241m.\u001b[39mwriter(\n\u001b[0;32m    261\u001b[0m         handles\u001b[38;5;241m.\u001b[39mhandle,\n\u001b[0;32m    262\u001b[0m         lineterminator\u001b[38;5;241m=\u001b[39m\u001b[38;5;28mself\u001b[39m\u001b[38;5;241m.\u001b[39mlineterminator,\n\u001b[1;32m   (...)\u001b[0m\n\u001b[0;32m    267\u001b[0m         quotechar\u001b[38;5;241m=\u001b[39m\u001b[38;5;28mself\u001b[39m\u001b[38;5;241m.\u001b[39mquotechar,\n\u001b[0;32m    268\u001b[0m     )\n\u001b[0;32m    270\u001b[0m     \u001b[38;5;28mself\u001b[39m\u001b[38;5;241m.\u001b[39m_save()\n",
      "File \u001b[1;32mc:\\Users\\pablo\\AppData\\Local\\Programs\\Python\\Python312\\Lib\\site-packages\\pandas\\io\\common.py:873\u001b[0m, in \u001b[0;36mget_handle\u001b[1;34m(path_or_buf, mode, encoding, compression, memory_map, is_text, errors, storage_options)\u001b[0m\n\u001b[0;32m    868\u001b[0m \u001b[38;5;28;01melif\u001b[39;00m \u001b[38;5;28misinstance\u001b[39m(handle, \u001b[38;5;28mstr\u001b[39m):\n\u001b[0;32m    869\u001b[0m     \u001b[38;5;66;03m# Check whether the filename is to be opened in binary mode.\u001b[39;00m\n\u001b[0;32m    870\u001b[0m     \u001b[38;5;66;03m# Binary mode does not support 'encoding' and 'newline'.\u001b[39;00m\n\u001b[0;32m    871\u001b[0m     \u001b[38;5;28;01mif\u001b[39;00m ioargs\u001b[38;5;241m.\u001b[39mencoding \u001b[38;5;129;01mand\u001b[39;00m \u001b[38;5;124m\"\u001b[39m\u001b[38;5;124mb\u001b[39m\u001b[38;5;124m\"\u001b[39m \u001b[38;5;129;01mnot\u001b[39;00m \u001b[38;5;129;01min\u001b[39;00m ioargs\u001b[38;5;241m.\u001b[39mmode:\n\u001b[0;32m    872\u001b[0m         \u001b[38;5;66;03m# Encoding\u001b[39;00m\n\u001b[1;32m--> 873\u001b[0m         handle \u001b[38;5;241m=\u001b[39m \u001b[38;5;28;43mopen\u001b[39;49m\u001b[43m(\u001b[49m\n\u001b[0;32m    874\u001b[0m \u001b[43m            \u001b[49m\u001b[43mhandle\u001b[49m\u001b[43m,\u001b[49m\n\u001b[0;32m    875\u001b[0m \u001b[43m            \u001b[49m\u001b[43mioargs\u001b[49m\u001b[38;5;241;43m.\u001b[39;49m\u001b[43mmode\u001b[49m\u001b[43m,\u001b[49m\n\u001b[0;32m    876\u001b[0m \u001b[43m            \u001b[49m\u001b[43mencoding\u001b[49m\u001b[38;5;241;43m=\u001b[39;49m\u001b[43mioargs\u001b[49m\u001b[38;5;241;43m.\u001b[39;49m\u001b[43mencoding\u001b[49m\u001b[43m,\u001b[49m\n\u001b[0;32m    877\u001b[0m \u001b[43m            \u001b[49m\u001b[43merrors\u001b[49m\u001b[38;5;241;43m=\u001b[39;49m\u001b[43merrors\u001b[49m\u001b[43m,\u001b[49m\n\u001b[0;32m    878\u001b[0m \u001b[43m            \u001b[49m\u001b[43mnewline\u001b[49m\u001b[38;5;241;43m=\u001b[39;49m\u001b[38;5;124;43m\"\u001b[39;49m\u001b[38;5;124;43m\"\u001b[39;49m\u001b[43m,\u001b[49m\n\u001b[0;32m    879\u001b[0m \u001b[43m        \u001b[49m\u001b[43m)\u001b[49m\n\u001b[0;32m    880\u001b[0m     \u001b[38;5;28;01melse\u001b[39;00m:\n\u001b[0;32m    881\u001b[0m         \u001b[38;5;66;03m# Binary mode\u001b[39;00m\n\u001b[0;32m    882\u001b[0m         handle \u001b[38;5;241m=\u001b[39m \u001b[38;5;28mopen\u001b[39m(handle, ioargs\u001b[38;5;241m.\u001b[39mmode)\n",
      "\u001b[1;31mPermissionError\u001b[0m: [Errno 13] Permission denied: '../data/raw/products_utf8.csv'"
     ]
    }
   ],
   "source": [
    "import pandas as pd\n",
    "import seaborn as sns\n",
    "import matplotlib.pyplot as plt\n",
    "# Cargar el dataset\n",
    "file_path = '../data/raw/products.csv'\n",
    "df = pd.read_csv(file_path, encoding='MacRoman')\n",
    "\n",
    "\n",
    "output_file_path = '../data/raw/products_utf8.csv'\n",
    "\n",
    "# Guardar el archivo convertido\n",
    "df.to_csv(output_file_path, encoding='utf-8', index=False)\n",
    "\n",
    "\n"
   ]
  },
  {
   "cell_type": "code",
   "execution_count": 2,
   "metadata": {},
   "outputs": [
    {
     "name": "stderr",
     "output_type": "stream",
     "text": [
      "C:\\Users\\pablo\\AppData\\Local\\Temp\\ipykernel_18524\\872481049.py:6: DtypeWarning: Columns (16) have mixed types. Specify dtype option on import or set low_memory=False.\n",
      "  data = pd.read_csv(file_path, encoding='utf-8')\n"
     ]
    }
   ],
   "source": [
    "import pandas as pd\n",
    "import seaborn as sns\n",
    "import matplotlib.pyplot as plt\n",
    "# Cargar el dataset\n",
    "file_path = '../data/raw/products_utf8.csv'\n",
    "data = pd.read_csv(file_path, encoding='utf-8')\n"
   ]
  },
  {
   "cell_type": "code",
   "execution_count": 3,
   "metadata": {},
   "outputs": [
    {
     "name": "stdout",
     "output_type": "stream",
     "text": [
      "<class 'pandas.core.frame.DataFrame'>\n",
      "RangeIndex: 101166 entries, 0 to 101165\n",
      "Data columns (total 19 columns):\n",
      " #   Column                Non-Null Count   Dtype  \n",
      "---  ------                --------------   -----  \n",
      " 0   product_id            101166 non-null  int64  \n",
      " 1   snapshot_id           101166 non-null  int64  \n",
      " 2   product_list_name     101166 non-null  int64  \n",
      " 3   product_name          101166 non-null  int64  \n",
      " 4   url                   101166 non-null  int64  \n",
      " 5   ingredients_text      79387 non-null   object \n",
      " 6   energy_per_100        37719 non-null   object \n",
      " 7   fat_per_100           62214 non-null   object \n",
      " 8   saturates_per_100     77681 non-null   object \n",
      " 9   salt_per_100          62134 non-null   object \n",
      " 10  sugar_per_100         78759 non-null   object \n",
      " 11  carbohydrate_per_100  79130 non-null   object \n",
      " 12  protein_per_100       62812 non-null   object \n",
      " 13  fibre_per_100         59796 non-null   object \n",
      " 14  serving               38287 non-null   object \n",
      " 15  serving_data          0 non-null       float64\n",
      " 16  serving_value         38284 non-null   object \n",
      " 17  serving_unit          32661 non-null   object \n",
      " 18  Retailer              101166 non-null  int64  \n",
      "dtypes: float64(1), int64(6), object(12)\n",
      "memory usage: 14.7+ MB\n"
     ]
    },
    {
     "data": {
      "text/plain": [
       "((101166, 19),\n",
       " None,\n",
       "          product_id    snapshot_id  product_list_name   product_name  \\\n",
       " count  1.011660e+05  101166.000000      101166.000000  101166.000000   \n",
       " mean   1.193381e+07    1077.428237       44729.236720   45275.392157   \n",
       " std    2.912246e+04       1.721046       25749.834926   26086.680643   \n",
       " min    1.188327e+07    1075.000000           1.000000       1.000000   \n",
       " 25%    1.190881e+07    1076.000000       22721.250000   22990.250000   \n",
       " 50%    1.193396e+07    1077.000000       44466.500000   44951.500000   \n",
       " 75%    1.195897e+07    1079.000000       67589.750000   68308.000000   \n",
       " max    1.198418e+07    1082.000000       89366.000000   90574.000000   \n",
       " \n",
       "                  url  serving_data       Retailer  \n",
       " count  101166.000000           0.0  101166.000000  \n",
       " mean    50515.857867           NaN    3863.239626  \n",
       " std     29172.727303           NaN    2247.585681  \n",
       " min         6.000000           NaN     684.000000  \n",
       " 25%     24945.250000           NaN    2238.000000  \n",
       " 50%     50509.500000           NaN    3652.000000  \n",
       " 75%     75751.750000           NaN    5729.000000  \n",
       " max    101017.000000           NaN    8360.000000  )"
      ]
     },
     "execution_count": 3,
     "metadata": {},
     "output_type": "execute_result"
    }
   ],
   "source": [
    "# Análisis descriptivo básico\n",
    "shape = data.shape\n",
    "info = data.info()\n",
    "describe = data.describe()\n",
    "\n",
    "(shape, info, describe)\n"
   ]
  },
  {
   "cell_type": "markdown",
   "metadata": {},
   "source": [
    "Pruebas limpieza variable ingredients_txt"
   ]
  },
  {
   "cell_type": "markdown",
   "metadata": {},
   "source": [
    "GENERACION DE DATAFRAME CON 20 INGREDIENTES MAXIMO"
   ]
  },
  {
   "cell_type": "code",
   "execution_count": 4,
   "metadata": {},
   "outputs": [
    {
     "name": "stderr",
     "output_type": "stream",
     "text": [
      "C:\\Users\\pablo\\AppData\\Local\\Temp\\ipykernel_18524\\866807237.py:6: DtypeWarning: Columns (16) have mixed types. Specify dtype option on import or set low_memory=False.\n",
      "  data = pd.read_csv(file_path, encoding='utf-8')\n"
     ]
    },
    {
     "name": "stdout",
     "output_type": "stream",
     "text": [
      "   product_id  snapshot_id  product_list_name  product_name    url  \\\n",
      "0    11891023         1075              10892         11047  81696   \n",
      "1    11891024         1075              70699         71680  83821   \n",
      "2    11891025         1075              70002         70928  85460   \n",
      "3    11891026         1075              31053         31483  83377   \n",
      "4    11891027         1075              75024         76105  77507   \n",
      "\n",
      "              ingredients_text energy_per_100 fat_per_100 saturates_per_100  \\\n",
      "0                      Cheddar            NaN       34.9g             21.7g   \n",
      "1  Butter (Milk), Salt (1.5%).            NaN       82.2g             52.1g   \n",
      "2               Salmon (Fish).            NaN       12.0g              1.6g   \n",
      "3         Clementine, Mandarin            NaN        0.2g                0g   \n",
      "4                      Avocado            NaN       19.5g              4.1g   \n",
      "\n",
      "  salt_per_100  ... ingredient_11 ingredient_12 ingredient_13 ingredient_14  \\\n",
      "0         1.8g  ...          None          None          None          None   \n",
      "1         1.5g  ...          None          None          None          None   \n",
      "2         0.1g  ...          None          None          None          None   \n",
      "3       <0.01g  ...          None          None          None          None   \n",
      "4         0.1g  ...          None          None          None          None   \n",
      "\n",
      "  ingredient_15  ingredient_16 ingredient_17 ingredient_18  ingredient_19  \\\n",
      "0          None           None          None          None           None   \n",
      "1          None           None          None          None           None   \n",
      "2          None           None          None          None           None   \n",
      "3          None           None          None          None           None   \n",
      "4          None           None          None          None           None   \n",
      "\n",
      "  ingredient_20  \n",
      "0          None  \n",
      "1          None  \n",
      "2          None  \n",
      "3          None  \n",
      "4          None  \n",
      "\n",
      "[5 rows x 41 columns]\n"
     ]
    }
   ],
   "source": [
    "import pandas as pd\n",
    "import re\n",
    "\n",
    "# Cargar el dataset\n",
    "file_path = '../data/raw/products_utf8.csv'  # Cambia esta ruta por la ubicación de tu archivo\n",
    "data = pd.read_csv(file_path, encoding='utf-8')\n",
    "\n",
    "# Función para limpiar y separar ingredientes\n",
    "def clean_and_tokenize(ingredients):\n",
    "    # Convertir a texto, minúsculas\n",
    "    ingredients = str(ingredients).lower()\n",
    "    # Eliminar paréntesis, porcentajes y caracteres especiales irrelevantes\n",
    "    ingredients = re.sub(r'\\(.*?\\)|\\d+%|[\\.\\%\\!]', '', ingredients)\n",
    "    # Reemplazar separadores por coma\n",
    "    ingredients = re.sub(r'\\s*(,|y|and|;|:|\\|)\\s*', ',', ingredients)\n",
    "    # Dividir en lista de ingredientes\n",
    "    return [item.strip() for item in ingredients.split(',') if item.strip()]\n",
    "\n",
    "# Aplicar la función a la columna 'ingredients_text'\n",
    "data['cleaned_ingredients'] = data['ingredients_text'].apply(clean_and_tokenize)\n",
    "\n",
    "# Crear una nueva columna 'saturado' para filas con más de 50 ingredientes\n",
    "data['saturado'] = data['cleaned_ingredients'].apply(lambda x: 1 if len(x) > 20 else 0)\n",
    "\n",
    "# Limitar los ingredientes a 20 columnas\n",
    "ingredients_columns = pd.DataFrame(\n",
    "    data['cleaned_ingredients'].apply(lambda x: x[:20]).tolist(),\n",
    "    index=data.index\n",
    ")\n",
    "\n",
    "# Renombrar las columnas\n",
    "ingredients_columns.columns = [f'ingredient_{i+1}' for i in range(ingredients_columns.shape[1])]\n",
    "\n",
    "# Concatenar las nuevas columnas con el DataFrame original\n",
    "result_data = pd.concat([data, ingredients_columns], axis=1)\n",
    "\n",
    "# Guardar el resultado en un archivo Excel (opcional)\n",
    "result_data.to_excel('ingredientes_procesados_limitados20.xlsx', index=False)\n",
    "\n",
    "# Mostrar una parte del resultado\n",
    "print(result_data.head())"
   ]
  },
  {
   "cell_type": "markdown",
   "metadata": {},
   "source": [
    "FUNCION CONTAR FRECUENCIA INGREDIENTES"
   ]
  },
  {
   "cell_type": "code",
   "execution_count": 5,
   "metadata": {},
   "outputs": [
    {
     "name": "stdout",
     "output_type": "stream",
     "text": [
      "                           Ingrediente  Frecuencia\n",
      "0                                 salt       36585\n",
      "1                                sugar       33349\n",
      "2                                water       29025\n",
      "3                                  nan       21779\n",
      "4                                  rup       14930\n",
      "...                                ...         ...\n",
      "37815                          water]}           1\n",
      "37816  tomato sauce 37 [tomato pulp 26           1\n",
      "37817                     fishsauce 53           1\n",
      "37818                     white wine 0           1\n",
      "37819                         sauce 38           1\n",
      "\n",
      "[37820 rows x 2 columns]\n",
      "Número de ingredientes diferentes: 37820\n"
     ]
    }
   ],
   "source": [
    "def contar_frecuencia_ingredientes(df, start_column='ingredient_1', end_column='ingredient_20'):\n",
    "    \"\"\"\n",
    "    Función para contar la frecuencia de cada ingrediente en un DataFrame.\n",
    "\n",
    "    Args:\n",
    "        df (pd.DataFrame): DataFrame que contiene las columnas de ingredientes.\n",
    "        start_column (str): Nombre de la primera columna de ingredientes.\n",
    "        end_column (str): Nombre de la última columna de ingredientes.\n",
    "\n",
    "    Returns:\n",
    "        pd.DataFrame: DataFrame con los ingredientes y su frecuencia, ordenado de mayor a menor.\n",
    "    \"\"\"\n",
    "    # Seleccionar las columnas de ingredientes\n",
    "    ingredient_columns = df.loc[:, start_column:end_column]\n",
    "    \n",
    "    # Combinar todos los ingredientes en una única serie\n",
    "    all_ingredients = ingredient_columns.stack()\n",
    "    \n",
    "    # Contar las frecuencias\n",
    "    ingredient_counts = all_ingredients.value_counts()\n",
    "    \n",
    "    # Convertir a DataFrame para mejor visualización\n",
    "    result = ingredient_counts.reset_index()\n",
    "    result.columns = ['Ingrediente', 'Frecuencia']\n",
    "    \n",
    "    return result\n",
    "\n",
    "# Llamar a la función con el DataFrame procesado\n",
    "frecuencia_ingredientes = contar_frecuencia_ingredientes(result_data)\n",
    "\n",
    "# Guardar el resultado en un archivo CSV (opcional)\n",
    "frecuencia_ingredientes.to_csv('frecuencia_ingredientes.csv', index=False)\n",
    "\n",
    "\n",
    "# Mostrar todos los ingredientes ordenados\n",
    "print(frecuencia_ingredientes)\n",
    "#print(frecuencia_ingredientes.head(10))\n",
    "# Calcular el número de ingredientes diferentes\n",
    "num_ingredientes_diferentes = frecuencia_ingredientes.shape[0]\n",
    "print(f\"Número de ingredientes diferentes: {num_ingredientes_diferentes}\")"
   ]
  },
  {
   "cell_type": "code",
   "execution_count": 6,
   "metadata": {},
   "outputs": [
    {
     "name": "stderr",
     "output_type": "stream",
     "text": [
      "C:\\Users\\pablo\\AppData\\Local\\Temp\\ipykernel_18524\\136658941.py:8: FutureWarning: \n",
      "\n",
      "Passing `palette` without assigning `hue` is deprecated and will be removed in v0.14.0. Assign the `y` variable to `hue` and set `legend=False` for the same effect.\n",
      "\n",
      "  sns.barplot(\n"
     ]
    },
    {
     "data": {
      "image/png": "[encoded data removed]",
      "text/plain": [
       "<Figure size 1200x800 with 1 Axes>"
      ]
     },
     "metadata": {},
     "output_type": "display_data"
    }
   ],
   "source": [
    "import seaborn as sns\n",
    "import matplotlib.pyplot as plt\n",
    "# Seleccionar los 30 ingredientes más frecuentes\n",
    "top_30_ingredientes = frecuencia_ingredientes.head(50)\n",
    "\n",
    "# Crear la gráfica\n",
    "plt.figure(figsize=(12, 8))\n",
    "sns.barplot(\n",
    "    data=top_30_ingredientes,\n",
    "    x='Frecuencia',\n",
    "    y='Ingrediente',\n",
    "    palette='viridis'\n",
    ")\n",
    "plt.title('Top 50 Ingredientes Más Frecuentes', fontsize=16)\n",
    "plt.xlabel('Frecuencia', fontsize=12)\n",
    "plt.ylabel('Ingrediente', fontsize=12)\n",
    "plt.tight_layout()\n",
    "plt.show()"
   ]
  },
  {
   "cell_type": "markdown",
   "metadata": {},
   "source": [
    "Función para identificar ingredientes falsos."
   ]
  },
  {
   "cell_type": "code",
   "execution_count": 7,
   "metadata": {},
   "outputs": [
    {
     "name": "stdout",
     "output_type": "stream",
     "text": [
      "Ingredientes reales (top 10):\n",
      "     Ingrediente  Frecuencia  EsFalso\n",
      "0           salt       36585    False\n",
      "1          sugar       33349    False\n",
      "2          water       29025    False\n",
      "4            rup       14930    False\n",
      "5   rapeseed oil       13015    False\n",
      "7         allerg       10040    False\n",
      "8         acidit       10034    False\n",
      "9    ingredients        8885    False\n",
      "10    emulsifier        8345    False\n",
      "11   flavourings        7684    False\n",
      "\n",
      "Ingredientes falsos (top 10):\n",
      "            Ingrediente  Frecuencia  EsFalso\n",
      "3                   nan       21779     True\n",
      "6                advice       10314     True\n",
      "49                   so        3247     True\n",
      "51        garlic purã©e        2751     True\n",
      "61                   er        2326     True\n",
      "70        tomato purã©e        2037     True\n",
      "81   glucose-fructose s        1761     True\n",
      "105                  gl        1394     True\n",
      "118                  th        1221     True\n",
      "119                  me        1215     True\n"
     ]
    }
   ],
   "source": [
    "def identificar_ingredientes_reales(lista_ingredientes):\n",
    "    \"\"\"\n",
    "    Identifica ingredientes reales y separa los valores no deseados.\n",
    "\n",
    "    Args:\n",
    "        lista_ingredientes (pd.DataFrame): DataFrame con ingredientes y sus frecuencias.\n",
    "\n",
    "    Returns:\n",
    "        pd.DataFrame: DataFrame con ingredientes reales y falsos etiquetados.\n",
    "    \"\"\"\n",
    "    # Criterios para marcar como falso\n",
    "    def es_falso(ingrediente):\n",
    "        # Valores vacíos, nulos o muy cortos\n",
    "        if not ingrediente or ingrediente in ['nan', '', 'none'] or len(ingrediente) < 3:\n",
    "            return True\n",
    "        # Palabras genéricas no relacionadas con alimentos\n",
    "        palabras_no_deseadas = {'advice', 'info', 'data', 'unknown'}\n",
    "        if ingrediente in palabras_no_deseadas:\n",
    "            return True\n",
    "        # Caracteres especiales\n",
    "        if re.search(r'[^a-zA-Záéíóúñ\\s]', ingrediente):\n",
    "            return True\n",
    "        # Caso contrario, se asume que es real\n",
    "        return False\n",
    "\n",
    "    # Aplicar la regla de clasificación\n",
    "    lista_ingredientes['EsFalso'] = lista_ingredientes['Ingrediente'].apply(es_falso)\n",
    "\n",
    "    return lista_ingredientes\n",
    "\n",
    "# Identificar ingredientes reales y falsos\n",
    "ingredientes_clasificados = identificar_ingredientes_reales(frecuencia_ingredientes)\n",
    "\n",
    "# Filtrar solo los ingredientes reales\n",
    "ingredientes_reales = ingredientes_clasificados[ingredientes_clasificados['EsFalso'] == False]\n",
    "\n",
    "# Filtrar ingredientes falsos para revisión\n",
    "ingredientes_falsos = ingredientes_clasificados[ingredientes_clasificados['EsFalso'] == True]\n",
    "\n",
    "# Guardar los resultados en archivos separados (opcional)\n",
    "#ingredientes_reales.to_csv('ingredientes_reales.csv', index=False)\n",
    "#ingredientes_falsos.to_csv('ingredientes_falsos.csv', index=False)\n",
    "\n",
    "# Mostrar ejemplos\n",
    "print(\"Ingredientes reales (top 10):\")\n",
    "print(ingredientes_reales.head(10))\n",
    "\n",
    "print(\"\\nIngredientes falsos (top 10):\")\n",
    "print(ingredientes_falsos.head(10))"
   ]
  },
  {
   "cell_type": "markdown",
   "metadata": {},
   "source": [
    "Comparación entre ingredientes totales e ingredientes falsos para ver como esta funcionando el algoritmo"
   ]
  },
  {
   "cell_type": "code",
   "execution_count": 8,
   "metadata": {},
   "outputs": [
    {
     "name": "stdout",
     "output_type": "stream",
     "text": [
      "              Categoría  Cantidad\n",
      "0  Ingredientes Totales     37820\n",
      "1   Ingredientes Reales     22779\n",
      "2   Ingredientes Falsos     15041\n"
     ]
    }
   ],
   "source": [
    "# Comparar ingredientes diferentes y los considerados falsos\n",
    "# Contar el número total de ingredientes diferentes\n",
    "num_ingredientes_diferentes = ingredientes_clasificados.shape[0]\n",
    "\n",
    "# Contar el número de ingredientes reales y falsos\n",
    "num_ingredientes_reales = ingredientes_clasificados[ingredientes_clasificados['EsFalso'] == False].shape[0]\n",
    "num_ingredientes_falsos = ingredientes_clasificados[ingredientes_clasificados['EsFalso'] == True].shape[0]\n",
    "\n",
    "# Crear un resumen comparativo\n",
    "comparacion = pd.DataFrame({\n",
    "    'Categoría': ['Ingredientes Totales', 'Ingredientes Reales', 'Ingredientes Falsos'],\n",
    "    'Cantidad': [num_ingredientes_diferentes, num_ingredientes_reales, num_ingredientes_falsos]\n",
    "})\n",
    "\n",
    "# Mostrar la comparación\n",
    "print(comparacion)\n",
    "\n",
    "# Guardar la comparación en un archivo CSV (opcional)\n",
    "comparacion.to_csv('comparacion_ingredientes.csv', index=False)"
   ]
  },
  {
   "cell_type": "markdown",
   "metadata": {},
   "source": [
    "Cuantos productos tienen al menos 1 ingrediente falso."
   ]
  },
  {
   "cell_type": "code",
   "execution_count": 9,
   "metadata": {},
   "outputs": [
    {
     "name": "stdout",
     "output_type": "stream",
     "text": [
      "Total de productos: 101166\n",
      "Productos con ingredientes falsos: 68045\n",
      "Productos sin ingredientes falsos: 33121\n"
     ]
    }
   ],
   "source": [
    "def analizar_productos_con_ingredientes_falsos_con_marca(result_data, ingredientes_falsos):\n",
    "    \"\"\"\n",
    "    Analiza cuántos productos contienen ingredientes falsos y agrega una columna 'tiene_ingrediente_falso'.\n",
    "\n",
    "    Args:\n",
    "        result_data (pd.DataFrame): DataFrame con los productos e ingredientes.\n",
    "        ingredientes_falsos (pd.DataFrame): DataFrame con los ingredientes clasificados como falsos.\n",
    "\n",
    "    Returns:\n",
    "        pd.DataFrame: DataFrame con la columna adicional 'tiene_ingrediente_falso'.\n",
    "        dict: Diccionario con el número de productos con y sin ingredientes falsos.\n",
    "    \"\"\"\n",
    "    # Obtener la lista de ingredientes catalogados como falsos\n",
    "    ingredientes_falsos_set = set(ingredientes_falsos['Ingrediente'])\n",
    "\n",
    "    # Seleccionar las columnas de ingredientes\n",
    "    ingredient_columns = result_data.loc[:, 'ingredient_1':'ingredient_20']\n",
    "\n",
    "    # Comprobar si cada producto contiene al menos un ingrediente falso\n",
    "    def contiene_ingrediente_falso(row):\n",
    "        for ingrediente in row:\n",
    "            if pd.notna(ingrediente) and ingrediente in ingredientes_falsos_set:\n",
    "                return True\n",
    "        return False\n",
    "\n",
    "    # Crear una nueva columna 'tiene_ingrediente_falso'\n",
    "    result_data['tiene_ingrediente_falso'] = ingredient_columns.apply(contiene_ingrediente_falso, axis=1).astype(int)\n",
    "\n",
    "    # Calcular los totales\n",
    "    total_productos = len(result_data)\n",
    "    productos_con_falsos_count = result_data['tiene_ingrediente_falso'].sum()\n",
    "    productos_sin_falsos_count = total_productos - productos_con_falsos_count\n",
    "\n",
    "    resumen = {\n",
    "        \"Total Productos\": total_productos,\n",
    "        \"Productos con Ingredientes Falsos\": productos_con_falsos_count,\n",
    "        \"Productos sin Ingredientes Falsos\": productos_sin_falsos_count\n",
    "    }\n",
    "\n",
    "    return result_data, resumen\n",
    "\n",
    "# Llamar a la función con los datos\n",
    "result_data_actualizado, resumen = analizar_productos_con_ingredientes_falsos_con_marca(result_data, ingredientes_falsos)\n",
    "\n",
    "# Mostrar resultados\n",
    "print(f\"Total de productos: {resumen['Total Productos']}\")\n",
    "print(f\"Productos con ingredientes falsos: {resumen['Productos con Ingredientes Falsos']}\")\n",
    "print(f\"Productos sin ingredientes falsos: {resumen['Productos sin Ingredientes Falsos']}\")\n",
    "\n",
    "# Guardar el DataFrame actualizado en un archivo CSV\n",
    "# result_data_actualizado.to_csv('productos_con_marca_ingredientes_falsos.csv', index=False)\n",
    "# print(\"Archivo 'productos_con_marca_ingredientes_falsos.csv' generado con éxito.\")"
   ]
  },
  {
   "cell_type": "markdown",
   "metadata": {},
   "source": [
    "Frecuencia 1"
   ]
  },
  {
   "cell_type": "code",
   "execution_count": 15,
   "metadata": {},
   "outputs": [
    {
     "name": "stdout",
     "output_type": "stream",
     "text": [
      "Número de ingredientes con frecuencia 1: 16821\n"
     ]
    }
   ],
   "source": [
    "# Identificar ingredientes con frecuencia igual a 1\n",
    "ingredientes_frecuencia_1 = frecuencia_ingredientes[frecuencia_ingredientes['Frecuencia'] == 1]\n",
    "\n",
    "# Contar el número de ingredientes con frecuencia 1\n",
    "num_ingredientes_frecuencia_1 = ingredientes_frecuencia_1.shape[0]\n",
    "\n",
    "print(f\"Número de ingredientes con frecuencia 1: {num_ingredientes_frecuencia_1}\")"
   ]
  },
  {
   "cell_type": "markdown",
   "metadata": {},
   "source": [
    "Analisis de frecuencias para ver a partir de cuantos vamos a desechar."
   ]
  },
  {
   "cell_type": "code",
   "execution_count": 10,
   "metadata": {},
   "outputs": [
    {
     "name": "stdout",
     "output_type": "stream",
     "text": [
      "Estadísticas básicas de las frecuencias de ingredientes:\n",
      "count    37820.000000\n",
      "mean        25.648281\n",
      "std        395.201664\n",
      "min          1.000000\n",
      "25%          1.000000\n",
      "50%          2.000000\n",
      "75%          5.000000\n",
      "max      36585.000000\n",
      "Name: Frecuencia, dtype: float64\n",
      "\n",
      "Percentiles de las frecuencias:\n",
      "0.05     1.0\n",
      "0.25     1.0\n",
      "0.50     2.0\n",
      "0.75     5.0\n",
      "0.95    42.0\n",
      "Name: Frecuencia, dtype: float64\n"
     ]
    },
    {
     "data": {
      "image/png": "[encoded data removed]",
      "text/plain": [
       "<Figure size 1000x600 with 1 Axes>"
      ]
     },
     "metadata": {},
     "output_type": "display_data"
    },
    {
     "data": {
      "image/png": "[encoded data removed]",
      "text/plain": [
       "<Figure size 1000x600 with 1 Axes>"
      ]
     },
     "metadata": {},
     "output_type": "display_data"
    },
    {
     "name": "stdout",
     "output_type": "stream",
     "text": [
      "\n",
      "Número de ingredientes con frecuencia <= percentil 5% (1.0): 16821\n",
      "\n",
      "Ejemplo de ingredientes infrecuentes:\n",
      "                       Ingrediente  Frecuencia  EsFalso\n",
      "20999            pecorino cheese 1           1     True\n",
      "21000  roast chicken breast fillet           1    False\n",
      "21001          chilli pepperallerg           1    False\n",
      "21002     mascarpone cream  [water           1     True\n",
      "21003                        e330)           1     True\n"
     ]
    }
   ],
   "source": [
    "import matplotlib.pyplot as plt\n",
    "import seaborn as sns\n",
    "\n",
    "# Estadísticas descriptivas de las frecuencias\n",
    "frecuencia_stats = frecuencia_ingredientes['Frecuencia'].describe()\n",
    "\n",
    "print(\"Estadísticas básicas de las frecuencias de ingredientes:\")\n",
    "print(frecuencia_stats)\n",
    "\n",
    "# Percentiles para analizar ingredientes infrecuentes\n",
    "percentiles = frecuencia_ingredientes['Frecuencia'].quantile([0.05, 0.25, 0.5, 0.75, 0.95])\n",
    "print(\"\\nPercentiles de las frecuencias:\")\n",
    "print(percentiles)\n",
    "\n",
    "# Visualización de la distribución de frecuencias\n",
    "plt.figure(figsize=(10, 6))\n",
    "sns.histplot(frecuencia_ingredientes['Frecuencia'], bins=30, kde=True)\n",
    "plt.title('Distribución de Frecuencias de Ingredientes', fontsize=16)\n",
    "plt.xlabel('Frecuencia', fontsize=12)\n",
    "plt.ylabel('Cantidad de Ingredientes', fontsize=12)\n",
    "plt.tight_layout()\n",
    "plt.show()\n",
    "\n",
    "# Visualización con gráfico de caja\n",
    "plt.figure(figsize=(10, 6))\n",
    "sns.boxplot(x=frecuencia_ingredientes['Frecuencia'])\n",
    "plt.title('Caja de Distribución de Frecuencias de Ingredientes', fontsize=16)\n",
    "plt.xlabel('Frecuencia', fontsize=12)\n",
    "plt.tight_layout()\n",
    "plt.show()\n",
    "\n",
    "# Identificar ingredientes infrecuentes (por debajo del percentil 5%)\n",
    "umbral_inferior = percentiles[0.05]\n",
    "ingredientes_infrecuentes = frecuencia_ingredientes[frecuencia_ingredientes['Frecuencia'] <= umbral_inferior]\n",
    "\n",
    "print(f\"\\nNúmero de ingredientes con frecuencia <= percentil 5% ({umbral_inferior}): {ingredientes_infrecuentes.shape[0]}\")\n",
    "\n",
    "# Mostrar una muestra de los ingredientes infrecuentes\n",
    "print(\"\\nEjemplo de ingredientes infrecuentes:\")\n",
    "print(ingredientes_infrecuentes.head())"
   ]
  },
  {
   "cell_type": "markdown",
   "metadata": {},
   "source": [
    "Calculamos el umbral de corte de los ingredientes."
   ]
  },
  {
   "cell_type": "code",
   "execution_count": 11,
   "metadata": {},
   "outputs": [
    {
     "name": "stdout",
     "output_type": "stream",
     "text": [
      "Ingredientes aptos (valores atípicos superiores): 4801\n",
      "Tamaño estimado del dataset final: 61556\n",
      "\n",
      "Ejemplo de ingredientes aptos (primeros 10):\n",
      "['salt', 'sugar', 'water', 'nan', 'rup', 'rapeseed oil', 'advice', 'allerg', 'acidit', 'ingredients']\n"
     ]
    }
   ],
   "source": [
    "def calcular_atipicos_aptos(frecuencia_ingredientes, result_data):\n",
    "    \"\"\"\n",
    "    Identifica los ingredientes aptos según los valores atípicos superiores en la distribución de frecuencias\n",
    "    y calcula el tamaño estimado del dataset final.\n",
    "\n",
    "    Args:\n",
    "        frecuencia_ingredientes (pd.DataFrame): DataFrame con ingredientes y sus frecuencias.\n",
    "        result_data (pd.DataFrame): DataFrame original con los productos e ingredientes.\n",
    "\n",
    "    Returns:\n",
    "        dict: Resultados con el número de ingredientes aptos y el tamaño estimado del dataset final.\n",
    "    \"\"\"\n",
    "    # Calcular el rango intercuartil (IQR)\n",
    "    Q1 = frecuencia_ingredientes['Frecuencia'].quantile(0.25)\n",
    "    Q3 = frecuencia_ingredientes['Frecuencia'].quantile(0.75)\n",
    "    IQR = Q3 - Q1\n",
    "\n",
    "    # Determinar el umbral para valores atípicos superiores\n",
    "    umbral_superior = Q3 + 1.5 * IQR\n",
    "\n",
    "    # Identificar ingredientes aptos (valores atípicos superiores)\n",
    "    ingredientes_aptos = frecuencia_ingredientes[frecuencia_ingredientes['Frecuencia'] > umbral_superior]\n",
    "    ingredientes_aptos_set = set(ingredientes_aptos['Ingrediente'])\n",
    "\n",
    "    # Calcular el tamaño estimado del dataset final\n",
    "    filas_afectadas = result_data.loc[:, 'ingredient_1':'ingredient_20'].apply(\n",
    "        lambda row: any(ingrediente not in ingredientes_aptos_set for ingrediente in row if pd.notna(ingrediente)),\n",
    "        axis=1\n",
    "    )\n",
    "\n",
    "    filas_restantes = len(result_data) - filas_afectadas.sum()\n",
    "\n",
    "    return {\n",
    "        \"Ingredientes Aptos\": len(ingredientes_aptos),\n",
    "        \"Filas Estimadas Restantes\": filas_restantes,\n",
    "        \"Ingredientes Seleccionados\": ingredientes_aptos['Ingrediente'].tolist()\n",
    "    }\n",
    "\n",
    "# Llamar a la función\n",
    "resultados = calcular_atipicos_aptos(frecuencia_ingredientes, result_data)\n",
    "\n",
    "# Mostrar resultados\n",
    "print(f\"Ingredientes aptos (valores atípicos superiores): {resultados['Ingredientes Aptos']}\")\n",
    "print(f\"Tamaño estimado del dataset final: {resultados['Filas Estimadas Restantes']}\")\n",
    "print(\"\\nEjemplo de ingredientes aptos (primeros 10):\")\n",
    "print(resultados['Ingredientes Seleccionados'][:10])\n"
   ]
  },
  {
   "cell_type": "markdown",
   "metadata": {},
   "source": [
    "Para descartar aquellos ingredientes con frecuencias bajas, me quedo con los outliers de los ingredientes diferentes."
   ]
  },
  {
   "cell_type": "code",
   "execution_count": 22,
   "metadata": {},
   "outputs": [
    {
     "name": "stdout",
     "output_type": "stream",
     "text": [
      "Ingredientes aptos (valores atípicos superiores): 4801\n",
      "Tamaño estimado del dataset final: 61556\n",
      "\n",
      "Ejemplo de ingredientes aptos (primeros 10):\n",
      "['salt', 'sugar', 'water', 'nan', 'rup', 'rapeseed oil', 'advice', 'allerg', 'acidit', 'ingredients']\n"
     ]
    }
   ],
   "source": [
    "def calcular_atipicos_aptos(frecuencia_ingredientes, result_data):\n",
    "    \"\"\"\n",
    "    Identifica los ingredientes aptos según los valores atípicos superiores en la distribución de frecuencias\n",
    "    y calcula el tamaño estimado del dataset final.\n",
    "\n",
    "    Args:\n",
    "        frecuencia_ingredientes (pd.DataFrame): DataFrame con ingredientes y sus frecuencias.\n",
    "        result_data (pd.DataFrame): DataFrame original con los productos e ingredientes.\n",
    "\n",
    "    Returns:\n",
    "        dict: Resultados con el número de ingredientes aptos y el tamaño estimado del dataset final.\n",
    "    \"\"\"\n",
    "    # Calcular el rango intercuartil (IQR)\n",
    "    Q1 = frecuencia_ingredientes['Frecuencia'].quantile(0.25)\n",
    "    Q3 = frecuencia_ingredientes['Frecuencia'].quantile(0.75)\n",
    "    IQR = Q3 - Q1\n",
    "\n",
    "    # Determinar el umbral para valores atípicos superiores\n",
    "    umbral_superior = Q3 + 1.5 * IQR\n",
    "\n",
    "    # Identificar ingredientes aptos (valores atípicos superiores)\n",
    "    ingredientes_aptos = frecuencia_ingredientes[frecuencia_ingredientes['Frecuencia'] > umbral_superior]\n",
    "    ingredientes_aptos_set = set(ingredientes_aptos['Ingrediente'])\n",
    "\n",
    "    # Calcular el tamaño estimado del dataset final\n",
    "    filas_afectadas = result_data.loc[:, 'ingredient_1':'ingredient_20'].apply(\n",
    "        lambda row: any(ingrediente not in ingredientes_aptos_set for ingrediente in row if pd.notna(ingrediente)),\n",
    "        axis=1\n",
    "    )\n",
    "\n",
    "    filas_restantes = len(result_data) - filas_afectadas.sum()\n",
    "\n",
    "    return {\n",
    "        \"Ingredientes Aptos\": len(ingredientes_aptos),\n",
    "        \"Filas Estimadas Restantes\": filas_restantes,\n",
    "        \"Ingredientes Seleccionados\": ingredientes_aptos['Ingrediente'].tolist()\n",
    "    }\n",
    "\n",
    "# Llamar a la función\n",
    "resultados = calcular_atipicos_aptos(frecuencia_ingredientes, result_data)\n",
    "\n",
    "# Mostrar resultados\n",
    "print(f\"Ingredientes aptos (valores atípicos superiores): {resultados['Ingredientes Aptos']}\")\n",
    "print(f\"Tamaño estimado del dataset final: {resultados['Filas Estimadas Restantes']}\")\n",
    "print(\"\\nEjemplo de ingredientes aptos (primeros 10):\")\n",
    "print(resultados['Ingredientes Seleccionados'][:10])\n"
   ]
  },
  {
   "cell_type": "markdown",
   "metadata": {},
   "source": [
    "Función para calcular filas con ingredientes aptos"
   ]
  },
  {
   "cell_type": "code",
   "execution_count": 26,
   "metadata": {},
   "outputs": [
    {
     "name": "stdout",
     "output_type": "stream",
     "text": [
      "      Ingrediente  Frecuencia\n",
      "0            salt       36585\n",
      "1           sugar       33349\n",
      "2           water       29025\n",
      "3             nan       21779\n",
      "4             rup       14930\n",
      "5    rapeseed oil       13015\n",
      "6          advice       10314\n",
      "7          allerg       10040\n",
      "8          acidit       10034\n",
      "9     ingredients        8885\n",
      "10     emulsifier        8345\n",
      "11    flavourings        7684\n",
      "12      regulator        7308\n",
      "13  sunflower oil        6914\n",
      "14      glucose s        6912\n",
      "15           east        6871\n",
      "16         colour        6626\n",
      "17     flavouring        6282\n",
      "18   preservative        6163\n",
      "19     wheatflour        5816\n",
      "20       dextrose        5516\n",
      "21      cornflour        5410\n",
      "22         spices        5109\n",
      "23       palm oil        5103\n",
      "24          onion        4951\n",
      "25    citric acid        4930\n",
      "26          flour        4854\n",
      "27   cocoa butter        4688\n",
      "28     stabiliser        4644\n",
      "29  potato starch        4581\n"
     ]
    }
   ],
   "source": [
    "def mostrar_primeros_aptos(resultados, frecuencia_ingredientes, top_n=30):\n",
    "    \"\"\"\n",
    "    Muestra los primeros ingredientes aptos y sus frecuencias.\n",
    "\n",
    "    Args:\n",
    "        resultados (dict): Resultados del análisis con los ingredientes aptos.\n",
    "        frecuencia_ingredientes (pd.DataFrame): DataFrame con las frecuencias de los ingredientes.\n",
    "        top_n (int): Número de ingredientes a mostrar.\n",
    "\n",
    "    Returns:\n",
    "        pd.DataFrame: DataFrame con los ingredientes y sus frecuencias.\n",
    "    \"\"\"\n",
    "    # Obtener la lista de ingredientes aptos\n",
    "    ingredientes_aptos = resultados['Ingredientes Seleccionados']\n",
    "    \n",
    "    # Filtrar las frecuencias para los ingredientes aptos\n",
    "    ingredientes_aptos_df = frecuencia_ingredientes[frecuencia_ingredientes['Ingrediente'].isin(ingredientes_aptos)]\n",
    "    \n",
    "    # Seleccionar los top_n ingredientes aptos\n",
    "    ingredientes_top = ingredientes_aptos_df.head(top_n)\n",
    "    \n",
    "    return ingredientes_top\n",
    "\n",
    "# Llamar a la función para mostrar los 30 primeros ingredientes aptos\n",
    "ingredientes_top_30 = mostrar_primeros_aptos(resultados, frecuencia_ingredientes, top_n=30)\n",
    "\n",
    "# Mostrar los resultados\n",
    "print(ingredientes_top_30)\n"
   ]
  },
  {
   "cell_type": "code",
   "execution_count": 27,
   "metadata": {},
   "outputs": [
    {
     "name": "stdout",
     "output_type": "stream",
     "text": [
      "Filas restantes en el dataset con los 100 primeros ingredientes aptos: 90572\n"
     ]
    }
   ],
   "source": [
    "def calcular_filas_con_ingredientes_aptos(result_data, resultados, top_n=100):\n",
    "    \"\"\"\n",
    "    Calcula cuántas filas quedarían en el dataset final si se consideran solo los productos \n",
    "    que contienen al menos uno de los top_n ingredientes aptos.\n",
    "\n",
    "    Args:\n",
    "        result_data (pd.DataFrame): DataFrame original con los productos e ingredientes.\n",
    "        resultados (dict): Resultados del análisis con los ingredientes aptos.\n",
    "        top_n (int): Número de ingredientes aptos a considerar.\n",
    "\n",
    "    Returns:\n",
    "        int: Número de filas restantes en el dataset final.\n",
    "    \"\"\"\n",
    "    # Obtener los top_n ingredientes aptos\n",
    "    ingredientes_aptos = resultados['Ingredientes Seleccionados'][:top_n]\n",
    "    ingredientes_aptos_set = set(ingredientes_aptos)\n",
    "    \n",
    "    # Verificar si cada producto contiene al menos un ingrediente apto\n",
    "    filas_con_aptos = result_data.loc[:, 'ingredient_1':'ingredient_20'].apply(\n",
    "        lambda row: any(ingrediente in ingredientes_aptos_set for ingrediente in row if pd.notna(ingrediente)),\n",
    "        axis=1\n",
    "    )\n",
    "    \n",
    "    # Contar las filas que cumplen la condición\n",
    "    filas_restantes = filas_con_aptos.sum()\n",
    "    \n",
    "    return filas_restantes\n",
    "\n",
    "# Llamar a la función para calcular las filas restantes\n",
    "filas_restantes_100_aptos = calcular_filas_con_ingredientes_aptos(result_data, resultados, top_n=100)\n",
    "\n",
    "# Mostrar el resultado\n",
    "print(f\"Filas restantes en el dataset con los 100 primeros ingredientes aptos: {filas_restantes_100_aptos}\")"
   ]
  },
  {
   "cell_type": "code",
   "execution_count": 12,
   "metadata": {},
   "outputs": [
    {
     "name": "stdout",
     "output_type": "stream",
     "text": [
      "Archivo CSV generado: productos_con_ingredientes_aptos.csv\n"
     ]
    }
   ],
   "source": [
    "def crear_csv_con_filas_aptas(result_data, resultados, top_n=100, output_file='productos_con_ingredientes_aptos.csv'):\n",
    "    \"\"\"\n",
    "    Crea un CSV con las filas del dataset que contienen al menos uno de los top_n ingredientes aptos.\n",
    "\n",
    "    Args:\n",
    "        result_data (pd.DataFrame): DataFrame original con los productos e ingredientes.\n",
    "        resultados (dict): Resultados del análisis con los ingredientes aptos.\n",
    "        top_n (int): Número de ingredientes aptos a considerar.\n",
    "        output_file (str): Nombre del archivo de salida.\n",
    "\n",
    "    Returns:\n",
    "        None\n",
    "    \"\"\"\n",
    "    # Obtener los top_n ingredientes aptos\n",
    "    ingredientes_aptos = resultados['Ingredientes Seleccionados'][:top_n]\n",
    "    ingredientes_aptos_set = set(ingredientes_aptos)\n",
    "    \n",
    "    # Filtrar las filas que contienen al menos un ingrediente apto\n",
    "    filas_con_aptos = result_data.loc[:, 'ingredient_1':'ingredient_20'].apply(\n",
    "        lambda row: any(ingrediente in ingredientes_aptos_set for ingrediente in row if pd.notna(ingrediente)),\n",
    "        axis=1\n",
    "    )\n",
    "    \n",
    "    # Crear un nuevo DataFrame con las filas aptas\n",
    "    result_data_filtrado = result_data[filas_con_aptos]\n",
    "    \n",
    "    # Guardar el resultado en un archivo CSV\n",
    "    result_data_filtrado.to_csv(output_file, index=False)\n",
    "    print(f\"Archivo CSV generado: {output_file}\")\n",
    "\n",
    "# Crear el CSV con las filas que contienen al menos uno de los 100 primeros ingredientes aptos\n",
    "crear_csv_con_filas_aptas(result_data, resultados, top_n=100, output_file='productos_con_ingredientes_aptos.csv')\n"
   ]
  },
  {
   "cell_type": "code",
   "execution_count": 13,
   "metadata": {},
   "outputs": [
    {
     "name": "stdout",
     "output_type": "stream",
     "text": [
      "Archivo CSV con indicador generado: productos_filtrados_analisis_aptos.csv\n"
     ]
    }
   ],
   "source": [
    "def agregar_columna_aptos(result_data, resultados, ingredientes_a_usar, output_file='productos_filtrados_con_indicador.csv'):\n",
    "    \"\"\"\n",
    "    Crea un CSV con una columna adicional que indica si las filas contienen al menos uno de los ingredientes aptos.\n",
    "\n",
    "    Args:\n",
    "        result_data (pd.DataFrame): DataFrame original con los productos e ingredientes.\n",
    "        resultados (dict): Resultados del análisis con los ingredientes aptos.\n",
    "        ingredientes_a_usar (list): Ingredientes aptos que se desean usar como filtro.\n",
    "        output_file (str): Nombre del archivo de salida.\n",
    "\n",
    "    Returns:\n",
    "        None\n",
    "    \"\"\"\n",
    "    # Crear un conjunto de los ingredientes aptos a usar\n",
    "    ingredientes_aptos_set = set(ingredientes_a_usar)\n",
    "    \n",
    "    # Crear una nueva columna que indique si cada fila contiene al menos un ingrediente apto\n",
    "    result_data['contiene_ingrediente_apto'] = result_data.loc[:, 'ingredient_1':'ingredient_20'].apply(\n",
    "        lambda row: any(ingrediente in ingredientes_aptos_set for ingrediente in row if pd.notna(ingrediente)),\n",
    "        axis=1\n",
    "    ).astype(int)\n",
    "    \n",
    "    # Guardar el DataFrame con la nueva columna en un archivo CSV\n",
    "    result_data.to_csv(output_file, index=False)\n",
    "    print(f\"Archivo CSV con indicador generado: {output_file}\")\n",
    "\n",
    "# Lista de ingredientes aptos seleccionados (puedes personalizarla)\n",
    "ingredientes_a_usar = resultados['Ingredientes Seleccionados'][:100]  # Por ejemplo, los 100 primeros\n",
    "\n",
    "# Crear el CSV con el indicador\n",
    "agregar_columna_aptos(result_data, resultados, ingredientes_a_usar, output_file='productos_filtrados_analisis_aptos.csv')\n"
   ]
  },
  {
   "cell_type": "code",
   "execution_count": 14,
   "metadata": {},
   "outputs": [
    {
     "name": "stdout",
     "output_type": "stream",
     "text": [
      "Archivo CSV generado con los ingredientes aptos: ingredientes_aptos_frecuencia.csv\n"
     ]
    }
   ],
   "source": [
    "def exportar_ingredientes_aptos(resultados, frecuencia_ingredientes, output_file='ingredientes_aptos_frecuencia.csv'):\n",
    "    \"\"\"\n",
    "    Exporta todos los ingredientes aptos y su frecuencia a un archivo CSV.\n",
    "\n",
    "    Args:\n",
    "        resultados (dict): Resultados del análisis con los ingredientes aptos.\n",
    "        frecuencia_ingredientes (pd.DataFrame): DataFrame con las frecuencias de los ingredientes.\n",
    "        output_file (str): Nombre del archivo de salida.\n",
    "\n",
    "    Returns:\n",
    "        None\n",
    "    \"\"\"\n",
    "    # Obtener los ingredientes aptos\n",
    "    ingredientes_aptos = resultados['Ingredientes Seleccionados']\n",
    "    \n",
    "    # Filtrar el DataFrame de frecuencias con los ingredientes aptos\n",
    "    ingredientes_aptos_df = frecuencia_ingredientes[frecuencia_ingredientes['Ingrediente'].isin(ingredientes_aptos)]\n",
    "    \n",
    "    # Guardar los ingredientes aptos en un archivo CSV\n",
    "    ingredientes_aptos_df.to_csv(output_file, index=False)\n",
    "    print(f\"Archivo CSV generado con los ingredientes aptos: {output_file}\")\n",
    "\n",
    "# Llamar a la función para exportar los ingredientes aptos\n",
    "exportar_ingredientes_aptos(resultados, frecuencia_ingredientes, output_file='ingredientes_aptos_frecuencia.csv')\n"
   ]
  },
  {
   "cell_type": "code",
   "execution_count": 16,
   "metadata": {},
   "outputs": [
    {
     "name": "stderr",
     "output_type": "stream",
     "text": [
      "C:\\Users\\pablo\\AppData\\Local\\Temp\\ipykernel_18524\\3928511660.py:27: SettingWithCopyWarning: \n",
      "A value is trying to be set on a copy of a slice from a DataFrame.\n",
      "Try using .loc[row_indexer,col_indexer] = value instead\n",
      "\n",
      "See the caveats in the documentation: https://pandas.pydata.org/pandas-docs/stable/user_guide/indexing.html#returning-a-view-versus-a-copy\n",
      "  frecuencia_ingredientes['Ingrediente_Normalizado'] = frecuencia_ingredientes['Ingrediente'].str.lower().str.strip()\n",
      "C:\\Users\\pablo\\AppData\\Local\\Temp\\ipykernel_18524\\3928511660.py:52: SettingWithCopyWarning: \n",
      "A value is trying to be set on a copy of a slice from a DataFrame.\n",
      "Try using .loc[row_indexer,col_indexer] = value instead\n",
      "\n",
      "See the caveats in the documentation: https://pandas.pydata.org/pandas-docs/stable/user_guide/indexing.html#returning-a-view-versus-a-copy\n",
      "  frecuencia_ingredientes['Ingrediente_Depurado'] = frecuencia_ingredientes['Ingrediente_Normalizado'].map(mapeo)\n"
     ]
    },
    {
     "name": "stdout",
     "output_type": "stream",
     "text": [
      "Archivo CSV generado con los ingredientes depurados: ../data/raw/ingredientes_aptos_depurados.csv\n"
     ]
    }
   ],
   "source": [
    "from sklearn.feature_extraction.text import TfidfVectorizer\n",
    "from sklearn.metrics.pairwise import cosine_similarity\n",
    "import numpy as np\n",
    "import pandas as pd\n",
    "\n",
    "def depurar_ingredientes_eficiente(frecuencia_ingredientes, similitud_umbral=0.85, output_file='../data/raw/ingredientes_aptos_depurados.csv'):\n",
    "    \"\"\"\n",
    "    Depura la lista de ingredientes aptos eliminando valores no deseados y agrupando ingredientes similares.\n",
    "    Utiliza un enfoque basado en TF-IDF y similitud de coseno para agrupar ingredientes.\n",
    "\n",
    "    Args:\n",
    "        frecuencia_ingredientes (pd.DataFrame): DataFrame con ingredientes y sus frecuencias.\n",
    "        similitud_umbral (float): Umbral de similitud (0-1) para considerar ingredientes como equivalentes.\n",
    "        output_file (str): Nombre del archivo CSV de salida.\n",
    "\n",
    "    Returns:\n",
    "        None\n",
    "    \"\"\"\n",
    "    # Filtrar valores no deseados (valores numéricos, nan, vacíos, etc.)\n",
    "    frecuencia_ingredientes = frecuencia_ingredientes[\n",
    "        frecuencia_ingredientes['Ingrediente'].apply(\n",
    "            lambda x: isinstance(x, str) and not x.isdigit() and x.lower() != 'nan' and len(x.strip()) > 1\n",
    "        )\n",
    "    ]\n",
    "    \n",
    "    # Normalizar ingredientes (minúsculas y eliminar espacios innecesarios)\n",
    "    frecuencia_ingredientes['Ingrediente_Normalizado'] = frecuencia_ingredientes['Ingrediente'].str.lower().str.strip()\n",
    "\n",
    "    # Vectorizar los ingredientes usando TF-IDF\n",
    "    vectorizer = TfidfVectorizer(analyzer='char', ngram_range=(2, 3))\n",
    "    tfidf_matrix = vectorizer.fit_transform(frecuencia_ingredientes['Ingrediente_Normalizado'])\n",
    "\n",
    "    # Calcular similitud de coseno entre los ingredientes\n",
    "    cosine_sim = cosine_similarity(tfidf_matrix)\n",
    "\n",
    "    # Crear agrupaciones basadas en similitud\n",
    "    agrupaciones = {}\n",
    "    usados = set()\n",
    "\n",
    "    for idx, ingrediente in enumerate(frecuencia_ingredientes['Ingrediente_Normalizado']):\n",
    "        if idx in usados:\n",
    "            continue\n",
    "        similares = np.where(cosine_sim[idx] >= similitud_umbral)[0]\n",
    "        base = ingrediente\n",
    "        agrupaciones[base] = [frecuencia_ingredientes['Ingrediente_Normalizado'].iloc[i] for i in similares]\n",
    "        usados.update(similares)\n",
    "\n",
    "    # Crear un mapeo de ingredientes a términos representativos\n",
    "    mapeo = {sim: base for base, grupo in agrupaciones.items() for sim in grupo}\n",
    "\n",
    "    # Reemplazar ingredientes en el DataFrame original\n",
    "    frecuencia_ingredientes['Ingrediente_Depurado'] = frecuencia_ingredientes['Ingrediente_Normalizado'].map(mapeo)\n",
    "\n",
    "    # Consolidar las frecuencias de los ingredientes depurados\n",
    "    ingredientes_depurados = (\n",
    "        frecuencia_ingredientes.groupby('Ingrediente_Depurado')['Frecuencia']\n",
    "        .sum()\n",
    "        .reset_index()\n",
    "        .sort_values(by='Frecuencia', ascending=False)\n",
    "    )\n",
    "\n",
    "    # Guardar el resultado en un archivo CSV\n",
    "    ingredientes_depurados.to_csv(output_file, index=False)\n",
    "    print(f\"Archivo CSV generado con los ingredientes depurados: {output_file}\")\n",
    "\n",
    "# Llamar a la función para depurar los ingredientes\n",
    "depurar_ingredientes_eficiente(frecuencia_ingredientes, similitud_umbral=0.85, output_file='../data/raw/ingredientes_aptos_depurados.csv')\n",
    "\n"
   ]
  }
 ],
 "metadata": {
  "kernelspec": {
   "display_name": "Python 3",
   "language": "python",
   "name": "python3"
  },
  "language_info": {
   "codemirror_mode": {
    "name": "ipython",
    "version": 3
   },
   "file_extension": ".py",
   "mimetype": "text/x-python",
   "name": "python",
   "nbconvert_exporter": "python",
   "pygments_lexer": "ipython3",
   "version": "3.12.4"
  },
  "orig_nbformat": 4
 },
 "nbformat": 4,
 "nbformat_minor": 2
}
